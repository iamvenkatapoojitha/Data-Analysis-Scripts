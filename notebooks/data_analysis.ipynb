import pandas as pd
import numpy as np
from scipy import stats

# Load a sample dataset
df = pd.read_csv('../data/sample_data.csv')

# Basic statistics
print("Summary statistics:")
print(df.describe())

# Mean, median, and mode
mean = df['column_name'].mean()
median = df['column_name'].median()
mode = df['column_name'].mode()[0]

print(f"Mean: {mean}, Median: {median}, Mode: {mode}")

# Perform a t-test
t_stat, p_value = stats.ttest_1samp(df['column_name'], 0)
print(f"T-statistic: {t_stat}, P-value: {p_value}")
